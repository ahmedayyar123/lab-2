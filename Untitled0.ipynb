{
  "nbformat": 4,
  "nbformat_minor": 0,
  "metadata": {
    "colab": {
      "provenance": [],
      "toc_visible": true
    },
    "kernelspec": {
      "name": "python3",
      "display_name": "Python 3"
    },
    "language_info": {
      "name": "python"
    }
  },
  "cells": [
    {
      "cell_type": "code",
      "execution_count": null,
      "metadata": {
        "id": "MTc1EcPOTs8v"
      },
      "outputs": [],
      "source": [
        "notesbook task1 list\n",
        "\n",
        "\n",
        "\n"
      ]
    },
    {
      "cell_type": "code",
      "source": [],
      "metadata": {
        "id": "5DJnyuFNTwsm"
      },
      "execution_count": 1,
      "outputs": []
    },
    {
      "cell_type": "code",
      "source": [
        "# Create a list of 10 integers\n",
        "numbers = [12, 47, 8, 99, 56, 71, 39, 25, 14, 82]\n",
        "print('Original List:', numbers)\n",
        "\n",
        "# Sum, max, and min\n",
        "print('Sum:', sum(numbers))\n",
        "print('Max:', max(numbers))\n",
        "print('Min:', min(numbers))\n",
        "\n",
        "# Add and remove element\n",
        "numbers.append(60)\n",
        "numbers.remove(47)\n",
        "print('Updated List:', numbers)\n",
        "\n",
        "# Sort ascending and descending\n",
        "print('Ascending:', sorted(numbers))\n",
        "print('Descending:', sorted(numbers, reverse=True))\n"
      ],
      "metadata": {
        "colab": {
          "base_uri": "https://localhost:8080/"
        },
        "id": "s0Wb6SVwT8fY",
        "outputId": "5fb61bc8-2ee2-4c3a-ee1e-23480818e6e4"
      },
      "execution_count": 1,
      "outputs": [
        {
          "output_type": "stream",
          "name": "stdout",
          "text": [
            "Original List: [12, 47, 8, 99, 56, 71, 39, 25, 14, 82]\n",
            "Sum: 453\n",
            "Max: 99\n",
            "Min: 8\n",
            "Updated List: [12, 8, 99, 56, 71, 39, 25, 14, 82, 60]\n",
            "Ascending: [8, 12, 14, 25, 39, 56, 60, 71, 82, 99]\n",
            "Descending: [99, 82, 71, 60, 56, 39, 25, 14, 12, 8]\n"
          ]
        }
      ]
    },
    {
      "cell_type": "markdown",
      "source": [
        "**Tuple**"
      ],
      "metadata": {
        "id": "QdBZvZURUbHr"
      }
    },
    {
      "cell_type": "code",
      "source": [
        "# Create a list of 10 integers\n",
        "numbers = [15, 62, 7, 101, 48, 73, 29, 36, 19, 95]\n",
        "print('Original List:', numbers)\n",
        "\n",
        "# Sum, max, and min\n",
        "print('Sum:', sum(numbers))\n",
        "print('Max:', max(numbers))\n",
        "print('Min:', min(numbers))\n",
        "\n",
        "# Add and remove element\n",
        "numbers.append(85)\n",
        "numbers.remove(62)\n",
        "print('Updated List:', numbers)\n",
        "\n",
        "# Sort ascending and descending\n",
        "print('Ascending:', sorted(numbers))\n",
        "print('Descending:', sorted(numbers, reverse=True))\n"
      ],
      "metadata": {
        "colab": {
          "base_uri": "https://localhost:8080/"
        },
        "id": "BcH-SUnqUfE8",
        "outputId": "99037e64-5e8f-4ab5-f6ba-ab0deaf090e1"
      },
      "execution_count": 2,
      "outputs": [
        {
          "output_type": "stream",
          "name": "stdout",
          "text": [
            "Original List: [15, 62, 7, 101, 48, 73, 29, 36, 19, 95]\n",
            "Sum: 485\n",
            "Max: 101\n",
            "Min: 7\n",
            "Updated List: [15, 7, 101, 48, 73, 29, 36, 19, 95, 85]\n",
            "Ascending: [7, 15, 19, 29, 36, 48, 73, 85, 95, 101]\n",
            "Descending: [101, 95, 85, 73, 48, 36, 29, 19, 15, 7]\n"
          ]
        }
      ]
    },
    {
      "cell_type": "markdown",
      "source": [
        "**Set **"
      ],
      "metadata": {
        "id": "9P27Wk6MUuiL"
      }
    },
    {
      "cell_type": "code",
      "source": [
        "# Create sets\n",
        "set_a = {11, 12, 13, 14, 15}\n",
        "set_b = {14, 15, 16, 17, 18}\n",
        "\n",
        "# Union, Intersection, Difference\n",
        "print('Union:', set_a | set_b)\n",
        "print('Intersection:', set_a & set_b)\n",
        "print('Difference:', set_a - set_b)\n",
        "\n",
        "# Add and remove\n",
        "set_a.add(20)\n",
        "set_a.remove(12)\n",
        "print('Updated Set A:', set_a)\n",
        "\n",
        "# Check existence\n",
        "print('Is 15 in set_a?', 15 in set_a)\n"
      ],
      "metadata": {
        "colab": {
          "base_uri": "https://localhost:8080/"
        },
        "id": "d1IWLJnuU015",
        "outputId": "f0f40a5d-9db2-450d-d0c1-3bddea951ee3"
      },
      "execution_count": 3,
      "outputs": [
        {
          "output_type": "stream",
          "name": "stdout",
          "text": [
            "Union: {11, 12, 13, 14, 15, 16, 17, 18}\n",
            "Intersection: {14, 15}\n",
            "Difference: {11, 12, 13}\n",
            "Updated Set A: {20, 11, 13, 14, 15}\n",
            "Is 15 in set_a? True\n"
          ]
        }
      ]
    },
    {
      "cell_type": "markdown",
      "source": [
        "**Dictionary**"
      ],
      "metadata": {
        "id": "o_jCClgvVIyM"
      }
    },
    {
      "cell_type": "code",
      "source": [
        "# Create dictionary\n",
        "students = {'Hina': 82, 'Bilal': 76, 'Nadia': 91, 'Kashif': 87, 'Ayesha': 95}\n",
        "\n",
        "# Print keys and values\n",
        "print('Keys:', students.keys())\n",
        "print('Values:', students.values())\n",
        "\n",
        "# Update value\n",
        "students['Hina'] = 89\n",
        "print('Updated Dictionary:', students)\n",
        "\n",
        "# Delete a key-value pair\n",
        "del students['Bilal']\n",
        "print('After Deletion:', students)\n",
        "\n",
        "# Check if key exists\n",
        "print('Is Nadia in dictionary?', 'Nadia' in students)\n"
      ],
      "metadata": {
        "colab": {
          "base_uri": "https://localhost:8080/"
        },
        "id": "7Gko7gf2VZQR",
        "outputId": "3b60e384-e130-4430-ce96-c11180495311"
      },
      "execution_count": 4,
      "outputs": [
        {
          "output_type": "stream",
          "name": "stdout",
          "text": [
            "Keys: dict_keys(['Hina', 'Bilal', 'Nadia', 'Kashif', 'Ayesha'])\n",
            "Values: dict_values([82, 76, 91, 87, 95])\n",
            "Updated Dictionary: {'Hina': 89, 'Bilal': 76, 'Nadia': 91, 'Kashif': 87, 'Ayesha': 95}\n",
            "After Deletion: {'Hina': 89, 'Nadia': 91, 'Kashif': 87, 'Ayesha': 95}\n",
            "Is Nadia in dictionary? True\n"
          ]
        }
      ]
    },
    {
      "cell_type": "markdown",
      "source": [
        "Numpy"
      ],
      "metadata": {
        "id": "eKrI3GikVbQl"
      }
    },
    {
      "cell_type": "code",
      "source": [
        "import numpy as np\n",
        "\n",
        "# Create 1D array\n",
        "arr = np.arange(5, 25)   # numbers from 5 to 24\n",
        "print('1D Array:', arr)\n",
        "\n",
        "# Reshape to 5x4 matrix\n",
        "matrix = arr.reshape(5, 4)\n",
        "print('5x4 Matrix:\\n', matrix)\n",
        "\n",
        "# Mean, Median, Std\n",
        "print('Mean:', np.mean(arr))\n",
        "print('Median:', np.median(arr))\n",
        "print('Standard Deviation:', np.std(arr))\n",
        "\n",
        "# Element-wise operations\n",
        "arr2 = np.arange(25, 45)   # numbers from 25 to 44\n",
        "print('Addition:', arr + arr2)\n",
        "print('Multiplication:', arr * arr2)\n"
      ],
      "metadata": {
        "colab": {
          "base_uri": "https://localhost:8080/"
        },
        "id": "AbHkgYIwVsuT",
        "outputId": "fdbfc0f8-9ba8-415f-bf30-48263e393869"
      },
      "execution_count": 5,
      "outputs": [
        {
          "output_type": "stream",
          "name": "stdout",
          "text": [
            "1D Array: [ 5  6  7  8  9 10 11 12 13 14 15 16 17 18 19 20 21 22 23 24]\n",
            "5x4 Matrix:\n",
            " [[ 5  6  7  8]\n",
            " [ 9 10 11 12]\n",
            " [13 14 15 16]\n",
            " [17 18 19 20]\n",
            " [21 22 23 24]]\n",
            "Mean: 14.5\n",
            "Median: 14.5\n",
            "Standard Deviation: 5.766281297335398\n",
            "Addition: [30 32 34 36 38 40 42 44 46 48 50 52 54 56 58 60 62 64 66 68]\n",
            "Multiplication: [ 125  156  189  224  261  300  341  384  429  476  525  576  629  684\n",
            "  741  800  861  924  989 1056]\n"
          ]
        }
      ]
    },
    {
      "cell_type": "markdown",
      "source": [
        "Matplotlib\n"
      ],
      "metadata": {
        "id": "luC8te3zVuRy"
      }
    },
    {
      "cell_type": "code",
      "source": [
        "import matplotlib.pyplot as plt\n",
        "\n",
        "# Line Plot\n",
        "x = list(range(1, 11))\n",
        "y = [i*3 for i in x]   # multiples of 3\n",
        "plt.plot(x, y, marker='o', color='green')\n",
        "plt.title('Numbers vs Multiples of 3')\n",
        "plt.xlabel('Numbers')\n",
        "plt.ylabel('Multiples of 3')\n",
        "plt.show()\n",
        "\n",
        "# Bar Chart\n",
        "students = ['Hina', 'Bilal', 'Nadia', 'Kashif', 'Ayesha']\n",
        "marks = [72, 85, 91, 67, 88]\n",
        "plt.bar(students, marks, color='orange')\n",
        "plt.title('Student Marks')\n",
        "plt.xlab\n"
      ],
      "metadata": {
        "colab": {
          "base_uri": "https://localhost:8080/",
          "height": 1000
        },
        "id": "i20GIW5FV18P",
        "outputId": "43bf8163-61d5-46a6-850c-c390941dbae7"
      },
      "execution_count": 6,
      "outputs": [
        {
          "output_type": "display_data",
          "data": {
            "text/plain": [
              "<Figure size 640x480 with 1 Axes>"
            ],
            "image/png": "[encoded data removed]"
          },
          "metadata": {}
        },
        {
          "output_type": "error",
          "ename": "AttributeError",
          "evalue": "module 'matplotlib.pyplot' has no attribute 'xlab'",
          "traceback": [
            "\u001b[0;31m---------------------------------------------------------------------------\u001b[0m",
            "\u001b[0;31mAttributeError\u001b[0m                            Traceback (most recent call last)",
            "\u001b[0;32m/tmp/ipython-input-1523197783.py\u001b[0m in \u001b[0;36m<cell line: 0>\u001b[0;34m()\u001b[0m\n\u001b[1;32m     15\u001b[0m \u001b[0mplt\u001b[0m\u001b[0;34m.\u001b[0m\u001b[0mbar\u001b[0m\u001b[0;34m(\u001b[0m\u001b[0mstudents\u001b[0m\u001b[0;34m,\u001b[0m \u001b[0mmarks\u001b[0m\u001b[0;34m,\u001b[0m \u001b[0mcolor\u001b[0m\u001b[0;34m=\u001b[0m\u001b[0;34m'orange'\u001b[0m\u001b[0;34m)\u001b[0m\u001b[0;34m\u001b[0m\u001b[0;34m\u001b[0m\u001b[0m\n\u001b[1;32m     16\u001b[0m \u001b[0mplt\u001b[0m\u001b[0;34m.\u001b[0m\u001b[0mtitle\u001b[0m\u001b[0;34m(\u001b[0m\u001b[0;34m'Student Marks'\u001b[0m\u001b[0;34m)\u001b[0m\u001b[0;34m\u001b[0m\u001b[0;34m\u001b[0m\u001b[0m\n\u001b[0;32m---> 17\u001b[0;31m \u001b[0mplt\u001b[0m\u001b[0;34m.\u001b[0m\u001b[0mxlab\u001b[0m\u001b[0;34m\u001b[0m\u001b[0;34m\u001b[0m\u001b[0m\n\u001b[0m",
            "\u001b[0;31mAttributeError\u001b[0m: module 'matplotlib.pyplot' has no attribute 'xlab'"
          ]
        },
        {
          "output_type": "display_data",
          "data": {
            "text/plain": [
              "<Figure size 640x480 with 1 Axes>"
            ],
            "image/png": "[encoded data removed]"
          },
          "metadata": {}
        }
      ]
    }
  ]
}